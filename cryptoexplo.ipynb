{
 "cells": [
  {
   "cell_type": "markdown",
   "id": "5bfa2d23",
   "metadata": {
    "papermill": {
     "duration": 0.012448,
     "end_time": "2022-01-26T14:42:07.396923",
     "exception": false,
     "start_time": "2022-01-26T14:42:07.384475",
     "status": "completed"
    },
    "tags": []
   },
   "source": [
    "# Crypto Currency Exploration\n",
    "# Data from RapidAPI\n",
    "## Contact info:\n",
    "### Sean Pharris - pharris.sean@gmail.com"
   ]
  },
  {
   "cell_type": "code",
   "execution_count": 1,
   "id": "73625359",
   "metadata": {
    "_cell_guid": "b1076dfc-b9ad-4769-8c92-a6c4dae69d19",
    "_uuid": "8f2839f25d086af736a60e9eeb907d3b93b6e0e5",
    "execution": {
     "iopub.execute_input": "2022-01-26T14:42:07.425946Z",
     "iopub.status.busy": "2022-01-26T14:42:07.424710Z",
     "iopub.status.idle": "2022-01-26T14:42:07.450720Z",
     "shell.execute_reply": "2022-01-26T14:42:07.451295Z",
     "shell.execute_reply.started": "2022-01-26T13:51:48.051994Z"
    },
    "jupyter": {
     "source_hidden": true
    },
    "papermill": {
     "duration": 0.042298,
     "end_time": "2022-01-26T14:42:07.451609",
     "exception": false,
     "start_time": "2022-01-26T14:42:07.409311",
     "status": "completed"
    },
    "tags": []
   },
   "outputs": [
    {
     "name": "stdout",
     "output_type": "stream",
     "text": [
      "/kaggle/input/crypto-list/digital_currency_list.csv\n"
     ]
    }
   ],
   "source": [
    "# This Python 3 environment comes with many helpful analytics libraries installed\n",
    "# It is defined by the kaggle/python Docker image: https://github.com/kaggle/docker-python\n",
    "# For example, here's several helpful packages to load\n",
    "\n",
    "import numpy as np # linear algebra\n",
    "import pandas as pd # data processing, CSV file I/O (e.g. pd.read_csv)\n",
    "\n",
    "# Input data files are available in the read-only \"../input/\" directory\n",
    "# For example, running this (by clicking run or pressing Shift+Enter) will list all files under the input directory\n",
    "\n",
    "import os\n",
    "for dirname, _, filenames in os.walk('/kaggle/input'):\n",
    "    for filename in filenames:\n",
    "        print(os.path.join(dirname, filename))\n",
    "\n",
    "# You can write up to 20GB to the current directory (/kaggle/working/) that gets preserved as output when you create a version using \"Save & Run All\" \n",
    "# You can also write temporary files to /kaggle/temp/, but they won't be saved outside of the current session"
   ]
  },
  {
   "cell_type": "markdown",
   "id": "dce62a4b",
   "metadata": {
    "papermill": {
     "duration": 0.01136,
     "end_time": "2022-01-26T14:42:07.476416",
     "exception": false,
     "start_time": "2022-01-26T14:42:07.465056",
     "status": "completed"
    },
    "tags": []
   },
   "source": [
    "API used for Crypto data is from RapidAPI - Alpha Vantage. https://rapidapi.com/alphavantage/api/alpha-vantage/   \n",
    "Documentation - https://www.alphavantage.co/documentation/"
   ]
  },
  {
   "cell_type": "code",
   "execution_count": 2,
   "id": "e2686519",
   "metadata": {
    "execution": {
     "iopub.execute_input": "2022-01-26T14:42:07.504192Z",
     "iopub.status.busy": "2022-01-26T14:42:07.503379Z",
     "iopub.status.idle": "2022-01-26T14:42:07.525152Z",
     "shell.execute_reply": "2022-01-26T14:42:07.525769Z",
     "shell.execute_reply.started": "2022-01-26T13:51:48.066810Z"
    },
    "papermill": {
     "duration": 0.037711,
     "end_time": "2022-01-26T14:42:07.525967",
     "exception": false,
     "start_time": "2022-01-26T14:42:07.488256",
     "status": "completed"
    },
    "tags": []
   },
   "outputs": [],
   "source": [
    "# import digital currency list (Contains all Crypto names and codes)\n",
    "df = pd.read_csv('/kaggle/input/crypto-list/digital_currency_list.csv')"
   ]
  },
  {
   "cell_type": "code",
   "execution_count": 3,
   "id": "463c6b4e",
   "metadata": {
    "execution": {
     "iopub.execute_input": "2022-01-26T14:42:07.555243Z",
     "iopub.status.busy": "2022-01-26T14:42:07.554467Z",
     "iopub.status.idle": "2022-01-26T14:42:07.574759Z",
     "shell.execute_reply": "2022-01-26T14:42:07.574060Z",
     "shell.execute_reply.started": "2022-01-26T13:51:48.081271Z"
    },
    "papermill": {
     "duration": 0.035884,
     "end_time": "2022-01-26T14:42:07.574923",
     "exception": false,
     "start_time": "2022-01-26T14:42:07.539039",
     "status": "completed"
    },
    "tags": []
   },
   "outputs": [],
   "source": [
    "# creation of name list \n",
    "name_list ={'0-9':[],'A':[],'B':[],'C':[],'D':[],'E':[],'F':[],'G':[],'H':[],'I':[],'J':[],'K':[],'L':[],'M':[],'N':[],\n",
    "            'O':[],'P':[],'Q':[],'R':[],'S':[],'T':[],'U':[],'V':[],'W':[],'X':[],'Y':[],'Z':[]}\n",
    "\n",
    "# Alphabetize list as dictionary\n",
    "for name in df['currency name']:\n",
    "    for i in name_list:\n",
    "        if name[0] == i or name[0].upper() == i:\n",
    "            name_list[i].append(name)"
   ]
  },
  {
   "cell_type": "code",
   "execution_count": 4,
   "id": "30f5d644",
   "metadata": {
    "execution": {
     "iopub.execute_input": "2022-01-26T14:42:07.610000Z",
     "iopub.status.busy": "2022-01-26T14:42:07.608802Z",
     "iopub.status.idle": "2022-01-26T14:42:07.613841Z",
     "shell.execute_reply": "2022-01-26T14:42:07.613275Z",
     "shell.execute_reply.started": "2022-01-26T13:51:48.100788Z"
    },
    "papermill": {
     "duration": 0.026318,
     "end_time": "2022-01-26T14:42:07.613989",
     "exception": false,
     "start_time": "2022-01-26T14:42:07.587671",
     "status": "completed"
    },
    "tags": []
   },
   "outputs": [
    {
     "data": {
      "text/plain": [
       "['Aave',\n",
       " 'ArcBlock',\n",
       " 'ArtByte',\n",
       " 'AsiaCoin',\n",
       " 'Achain',\n",
       " 'adToken',\n",
       " 'AdEx',\n",
       " 'Aeternity',\n",
       " 'Aeon',\n",
       " 'AidCoin',\n",
       " 'Aion',\n",
       " 'AirToken',\n",
       " 'Akuya-Coin',\n",
       " 'Algorand',\n",
       " 'ALIS',\n",
       " 'AmberCoin',\n",
       " 'Ampleforth',\n",
       " 'Anoncoin',\n",
       " 'Aragon',\n",
       " 'AppCoins',\n",
       " 'APX-Ventures',\n",
       " 'Ardor',\n",
       " 'Ark',\n",
       " 'Aeron',\n",
       " 'AirSwap',\n",
       " 'ATBCoin',\n",
       " 'ATMChain',\n",
       " 'Authorship',\n",
       " 'Auroracoin',\n",
       " 'Avalanche',\n",
       " 'Aventus',\n",
       " 'Agrello-Delta',\n",
       " 'aelf',\n",
       " 'Augur',\n",
       " 'All-Sports',\n",
       " 'Asch']"
      ]
     },
     "execution_count": 4,
     "metadata": {},
     "output_type": "execute_result"
    }
   ],
   "source": [
    "# Example of alphabetized list\n",
    "name_list['A']"
   ]
  },
  {
   "cell_type": "markdown",
   "id": "afad199c",
   "metadata": {
    "papermill": {
     "duration": 0.011854,
     "end_time": "2022-01-26T14:42:07.638509",
     "exception": false,
     "start_time": "2022-01-26T14:42:07.626655",
     "status": "completed"
    },
    "tags": []
   },
   "source": [
    "### Template array for currency CSVs"
   ]
  },
  {
   "cell_type": "code",
   "execution_count": 5,
   "id": "14f66988",
   "metadata": {
    "execution": {
     "iopub.execute_input": "2022-01-26T14:42:07.671893Z",
     "iopub.status.busy": "2022-01-26T14:42:07.671071Z",
     "iopub.status.idle": "2022-01-26T14:42:07.674794Z",
     "shell.execute_reply": "2022-01-26T14:42:07.675312Z",
     "shell.execute_reply.started": "2022-01-26T13:51:48.117084Z"
    },
    "papermill": {
     "duration": 0.024707,
     "end_time": "2022-01-26T14:42:07.675494",
     "exception": false,
     "start_time": "2022-01-26T14:42:07.650787",
     "status": "completed"
    },
    "tags": []
   },
   "outputs": [
    {
     "data": {
      "text/plain": [
       "{'Time_series': [],\n",
       " 'Open (CNY)': [],\n",
       " 'Open (USD)': [],\n",
       " 'High (CNY)': [],\n",
       " 'High (USD)': [],\n",
       " 'Low (CNY)': [],\n",
       " 'Low (USD)': [],\n",
       " 'Close (CNY)': [],\n",
       " 'Close (USD)': [],\n",
       " 'Volume': [],\n",
       " 'Market cap (USD)': []}"
      ]
     },
     "execution_count": 5,
     "metadata": {},
     "output_type": "execute_result"
    }
   ],
   "source": [
    "template = {\n",
    "    \"Time_series\":[],\n",
    "    \"Open (CNY)\":[],\n",
    "    \"Open (USD)\":[],\n",
    "    \"High (CNY)\":[],\n",
    "    \"High (USD)\":[],\n",
    "    \"Low (CNY)\":[],\n",
    "    \"Low (USD)\":[],\n",
    "    \"Close (CNY)\":[],\n",
    "    \"Close (USD)\":[],\n",
    "    \"Volume\":[],\n",
    "    \"Market cap (USD)\":[],   \n",
    "}\n",
    "template"
   ]
  },
  {
   "cell_type": "markdown",
   "id": "2d1a94ac",
   "metadata": {
    "papermill": {
     "duration": 0.015007,
     "end_time": "2022-01-26T14:42:07.703249",
     "exception": false,
     "start_time": "2022-01-26T14:42:07.688242",
     "status": "completed"
    },
    "tags": []
   },
   "source": [
    "### Turn the template into a Data frame to be converted to a CSV"
   ]
  },
  {
   "cell_type": "code",
   "execution_count": 6,
   "id": "4f995399",
   "metadata": {
    "execution": {
     "iopub.execute_input": "2022-01-26T14:42:07.735950Z",
     "iopub.status.busy": "2022-01-26T14:42:07.735237Z",
     "iopub.status.idle": "2022-01-26T14:42:07.749929Z",
     "shell.execute_reply": "2022-01-26T14:42:07.749338Z",
     "shell.execute_reply.started": "2022-01-26T13:51:48.137159Z"
    },
    "papermill": {
     "duration": 0.03432,
     "end_time": "2022-01-26T14:42:07.750085",
     "exception": false,
     "start_time": "2022-01-26T14:42:07.715765",
     "status": "completed"
    },
    "tags": []
   },
   "outputs": [
    {
     "data": {
      "text/html": [
       "<div>\n",
       "<style scoped>\n",
       "    .dataframe tbody tr th:only-of-type {\n",
       "        vertical-align: middle;\n",
       "    }\n",
       "\n",
       "    .dataframe tbody tr th {\n",
       "        vertical-align: top;\n",
       "    }\n",
       "\n",
       "    .dataframe thead th {\n",
       "        text-align: right;\n",
       "    }\n",
       "</style>\n",
       "<table border=\"1\" class=\"dataframe\">\n",
       "  <thead>\n",
       "    <tr style=\"text-align: right;\">\n",
       "      <th></th>\n",
       "      <th>Time_series</th>\n",
       "      <th>Open (CNY)</th>\n",
       "      <th>Open (USD)</th>\n",
       "      <th>High (CNY)</th>\n",
       "      <th>High (USD)</th>\n",
       "      <th>Low (CNY)</th>\n",
       "      <th>Low (USD)</th>\n",
       "      <th>Close (CNY)</th>\n",
       "      <th>Close (USD)</th>\n",
       "      <th>Volume</th>\n",
       "      <th>Market cap (USD)</th>\n",
       "    </tr>\n",
       "  </thead>\n",
       "  <tbody>\n",
       "  </tbody>\n",
       "</table>\n",
       "</div>"
      ],
      "text/plain": [
       "Empty DataFrame\n",
       "Columns: [Time_series, Open (CNY), Open (USD), High (CNY), High (USD), Low (CNY), Low (USD), Close (CNY), Close (USD), Volume, Market cap (USD)]\n",
       "Index: []"
      ]
     },
     "execution_count": 6,
     "metadata": {},
     "output_type": "execute_result"
    }
   ],
   "source": [
    "template = pd.DataFrame(template)\n",
    "template"
   ]
  },
  {
   "cell_type": "markdown",
   "id": "e0a06c6f",
   "metadata": {
    "papermill": {
     "duration": 0.012522,
     "end_time": "2022-01-26T14:42:07.776433",
     "exception": false,
     "start_time": "2022-01-26T14:42:07.763911",
     "status": "completed"
    },
    "tags": []
   },
   "source": [
    "### Below creates a CSV for all currencies then stores the CSV as a data frame in a dictionary"
   ]
  },
  {
   "cell_type": "code",
   "execution_count": 7,
   "id": "2b4808ce",
   "metadata": {
    "execution": {
     "iopub.execute_input": "2022-01-26T14:42:07.810338Z",
     "iopub.status.busy": "2022-01-26T14:42:07.809634Z",
     "iopub.status.idle": "2022-01-26T14:42:10.490047Z",
     "shell.execute_reply": "2022-01-26T14:42:10.489286Z",
     "shell.execute_reply.started": "2022-01-26T14:34:28.015487Z"
    },
    "papermill": {
     "duration": 2.700845,
     "end_time": "2022-01-26T14:42:10.490215",
     "exception": false,
     "start_time": "2022-01-26T14:42:07.789370",
     "status": "completed"
    },
    "tags": []
   },
   "outputs": [],
   "source": [
    "df_dict = {}\n",
    "count = 0\n",
    "while count < len(df['currency name']):\n",
    "    \n",
    "    new_csv = df['currency name'][count] + \".csv\"\n",
    "    template.to_csv(new_csv, index=False)\n",
    "    \n",
    "    \n",
    "    new_df = df['currency name'][count] + \"_df\"\n",
    "    new_df = pd.read_csv(new_csv)\n",
    "    \n",
    "    \n",
    "    df_dict[df['currency name'][count]] = new_df\n",
    "    \n",
    "    count += 1"
   ]
  },
  {
   "cell_type": "markdown",
   "id": "af0b9b85",
   "metadata": {
    "papermill": {
     "duration": 0.014256,
     "end_time": "2022-01-26T14:42:10.518547",
     "exception": false,
     "start_time": "2022-01-26T14:42:10.504291",
     "status": "completed"
    },
    "tags": []
   },
   "source": [
    "### The data frame are now accessible through the dictionary.\n",
    "### Example:"
   ]
  },
  {
   "cell_type": "code",
   "execution_count": 8,
   "id": "e9a77383",
   "metadata": {
    "execution": {
     "iopub.execute_input": "2022-01-26T14:42:10.556390Z",
     "iopub.status.busy": "2022-01-26T14:42:10.555668Z",
     "iopub.status.idle": "2022-01-26T14:42:10.560579Z",
     "shell.execute_reply": "2022-01-26T14:42:10.559926Z",
     "shell.execute_reply.started": "2022-01-26T14:34:59.395675Z"
    },
    "papermill": {
     "duration": 0.029023,
     "end_time": "2022-01-26T14:42:10.560750",
     "exception": false,
     "start_time": "2022-01-26T14:42:10.531727",
     "status": "completed"
    },
    "tags": []
   },
   "outputs": [
    {
     "data": {
      "text/html": [
       "<div>\n",
       "<style scoped>\n",
       "    .dataframe tbody tr th:only-of-type {\n",
       "        vertical-align: middle;\n",
       "    }\n",
       "\n",
       "    .dataframe tbody tr th {\n",
       "        vertical-align: top;\n",
       "    }\n",
       "\n",
       "    .dataframe thead th {\n",
       "        text-align: right;\n",
       "    }\n",
       "</style>\n",
       "<table border=\"1\" class=\"dataframe\">\n",
       "  <thead>\n",
       "    <tr style=\"text-align: right;\">\n",
       "      <th></th>\n",
       "      <th>Time_series</th>\n",
       "      <th>Open (CNY)</th>\n",
       "      <th>Open (USD)</th>\n",
       "      <th>High (CNY)</th>\n",
       "      <th>High (USD)</th>\n",
       "      <th>Low (CNY)</th>\n",
       "      <th>Low (USD)</th>\n",
       "      <th>Close (CNY)</th>\n",
       "      <th>Close (USD)</th>\n",
       "      <th>Volume</th>\n",
       "      <th>Market cap (USD)</th>\n",
       "    </tr>\n",
       "  </thead>\n",
       "  <tbody>\n",
       "  </tbody>\n",
       "</table>\n",
       "</div>"
      ],
      "text/plain": [
       "Empty DataFrame\n",
       "Columns: [Time_series, Open (CNY), Open (USD), High (CNY), High (USD), Low (CNY), Low (USD), Close (CNY), Close (USD), Volume, Market cap (USD)]\n",
       "Index: []"
      ]
     },
     "execution_count": 8,
     "metadata": {},
     "output_type": "execute_result"
    }
   ],
   "source": [
    "df_dict['Hedera']"
   ]
  },
  {
   "cell_type": "code",
   "execution_count": null,
   "id": "0df62633",
   "metadata": {
    "papermill": {
     "duration": 0.013524,
     "end_time": "2022-01-26T14:42:10.587661",
     "exception": false,
     "start_time": "2022-01-26T14:42:10.574137",
     "status": "completed"
    },
    "tags": []
   },
   "outputs": [],
   "source": []
  }
 ],
 "metadata": {
  "kernelspec": {
   "display_name": "Python 3",
   "language": "python",
   "name": "python3"
  },
  "language_info": {
   "codemirror_mode": {
    "name": "ipython",
    "version": 3
   },
   "file_extension": ".py",
   "mimetype": "text/x-python",
   "name": "python",
   "nbconvert_exporter": "python",
   "pygments_lexer": "ipython3",
   "version": "3.7.12"
  },
  "papermill": {
   "default_parameters": {},
   "duration": 16.038714,
   "end_time": "2022-01-26T14:42:11.316190",
   "environment_variables": {},
   "exception": null,
   "input_path": "__notebook__.ipynb",
   "output_path": "__notebook__.ipynb",
   "parameters": {},
   "start_time": "2022-01-26T14:41:55.277476",
   "version": "2.3.3"
  }
 },
 "nbformat": 4,
 "nbformat_minor": 5
}
