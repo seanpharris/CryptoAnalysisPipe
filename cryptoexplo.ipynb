{
 "cells": [
  {
   "cell_type": "markdown",
   "id": "a0756d0c",
   "metadata": {
    "papermill": {
     "duration": 0.007165,
     "end_time": "2022-01-26T12:24:47.805714",
     "exception": false,
     "start_time": "2022-01-26T12:24:47.798549",
     "status": "completed"
    },
    "tags": []
   },
   "source": [
    "# Crypto Currency Exploration\n",
    "# Data from RapidAPI\n",
    "## Contact info:\n",
    "### Sean Pharris - pharris.sean@gmail.com"
   ]
  },
  {
   "cell_type": "code",
   "execution_count": 1,
   "id": "4c47b215",
   "metadata": {
    "_cell_guid": "b1076dfc-b9ad-4769-8c92-a6c4dae69d19",
    "_uuid": "8f2839f25d086af736a60e9eeb907d3b93b6e0e5",
    "execution": {
     "iopub.execute_input": "2022-01-26T12:24:47.823476Z",
     "iopub.status.busy": "2022-01-26T12:24:47.821890Z",
     "iopub.status.idle": "2022-01-26T12:24:47.840819Z",
     "shell.execute_reply": "2022-01-26T12:24:47.841498Z",
     "shell.execute_reply.started": "2022-01-26T11:47:06.510327Z"
    },
    "jupyter": {
     "source_hidden": true
    },
    "papermill": {
     "duration": 0.029897,
     "end_time": "2022-01-26T12:24:47.841877",
     "exception": false,
     "start_time": "2022-01-26T12:24:47.811980",
     "status": "completed"
    },
    "tags": []
   },
   "outputs": [
    {
     "name": "stdout",
     "output_type": "stream",
     "text": [
      "/kaggle/input/crypto-list/digital_currency_list.csv\n"
     ]
    }
   ],
   "source": [
    "# This Python 3 environment comes with many helpful analytics libraries installed\n",
    "# It is defined by the kaggle/python Docker image: https://github.com/kaggle/docker-python\n",
    "# For example, here's several helpful packages to load\n",
    "\n",
    "import numpy as np # linear algebra\n",
    "import pandas as pd # data processing, CSV file I/O (e.g. pd.read_csv)\n",
    "\n",
    "# Input data files are available in the read-only \"../input/\" directory\n",
    "# For example, running this (by clicking run or pressing Shift+Enter) will list all files under the input directory\n",
    "\n",
    "import os\n",
    "for dirname, _, filenames in os.walk('/kaggle/input'):\n",
    "    for filename in filenames:\n",
    "        print(os.path.join(dirname, filename))\n",
    "\n",
    "# You can write up to 20GB to the current directory (/kaggle/working/) that gets preserved as output when you create a version using \"Save & Run All\" \n",
    "# You can also write temporary files to /kaggle/temp/, but they won't be saved outside of the current session"
   ]
  },
  {
   "cell_type": "markdown",
   "id": "632a714e",
   "metadata": {
    "papermill": {
     "duration": 0.00589,
     "end_time": "2022-01-26T12:24:47.854490",
     "exception": false,
     "start_time": "2022-01-26T12:24:47.848600",
     "status": "completed"
    },
    "tags": []
   },
   "source": [
    "API used for Crypto data is from RapidAPI - Alpha Vantage. https://rapidapi.com/alphavantage/api/alpha-vantage/\n",
    "Documentation - https://www.alphavantage.co/documentation/"
   ]
  },
  {
   "cell_type": "code",
   "execution_count": 2,
   "id": "da89c235",
   "metadata": {
    "execution": {
     "iopub.execute_input": "2022-01-26T12:24:47.868410Z",
     "iopub.status.busy": "2022-01-26T12:24:47.867554Z",
     "iopub.status.idle": "2022-01-26T12:24:47.890680Z",
     "shell.execute_reply": "2022-01-26T12:24:47.891443Z",
     "shell.execute_reply.started": "2022-01-26T12:16:46.383669Z"
    },
    "papermill": {
     "duration": 0.031029,
     "end_time": "2022-01-26T12:24:47.891667",
     "exception": false,
     "start_time": "2022-01-26T12:24:47.860638",
     "status": "completed"
    },
    "tags": []
   },
   "outputs": [],
   "source": [
    "# import digital currency list (Contains all Crypto names and codes)\n",
    "df = pd.read_csv('/kaggle/input/crypto-list/digital_currency_list.csv')"
   ]
  },
  {
   "cell_type": "code",
   "execution_count": 3,
   "id": "3f9968d9",
   "metadata": {
    "execution": {
     "iopub.execute_input": "2022-01-26T12:24:47.907535Z",
     "iopub.status.busy": "2022-01-26T12:24:47.906971Z",
     "iopub.status.idle": "2022-01-26T12:24:47.927583Z",
     "shell.execute_reply": "2022-01-26T12:24:47.928076Z"
    },
    "papermill": {
     "duration": 0.030147,
     "end_time": "2022-01-26T12:24:47.928253",
     "exception": false,
     "start_time": "2022-01-26T12:24:47.898106",
     "status": "completed"
    },
    "tags": []
   },
   "outputs": [],
   "source": [
    "# creation of name list \n",
    "name_list ={'0-9':[],'A':[],'B':[],'C':[],'D':[],'E':[],'F':[],'G':[],'H':[],'I':[],'J':[],'K':[],'L':[],'M':[],'N':[],\n",
    "            'O':[],'P':[],'Q':[],'R':[],'S':[],'T':[],'U':[],'V':[],'W':[],'X':[],'Y':[],'Z':[]}\n",
    "\n",
    "for n, name in enumerate(df['currency name']):\n",
    "    for i in name_list:\n",
    "        if name[0] == i or name[0].upper() == i:\n",
    "            name_list[i].append(name)"
   ]
  }
 ],
 "metadata": {
  "kernelspec": {
   "display_name": "Python 3",
   "language": "python",
   "name": "python3"
  },
  "language_info": {
   "codemirror_mode": {
    "name": "ipython",
    "version": 3
   },
   "file_extension": ".py",
   "mimetype": "text/x-python",
   "name": "python",
   "nbconvert_exporter": "python",
   "pygments_lexer": "ipython3",
   "version": "3.7.12"
  },
  "papermill": {
   "default_parameters": {},
   "duration": 8.937977,
   "end_time": "2022-01-26T12:24:48.542455",
   "environment_variables": {},
   "exception": null,
   "input_path": "__notebook__.ipynb",
   "output_path": "__notebook__.ipynb",
   "parameters": {},
   "start_time": "2022-01-26T12:24:39.604478",
   "version": "2.3.3"
  }
 },
 "nbformat": 4,
 "nbformat_minor": 5
}
