{
 "cells": [
  {
   "cell_type": "markdown",
   "id": "d1923f6a",
   "metadata": {
    "papermill": {
     "duration": 0.013602,
     "end_time": "2022-01-27T19:45:20.502903",
     "exception": false,
     "start_time": "2022-01-27T19:45:20.489301",
     "status": "completed"
    },
    "tags": []
   },
   "source": [
    "# Crypto Currency Exploration\n",
    "# Data from RapidAPI\n",
    "## Contact info:\n",
    "### Sean Pharris - pharris.sean@gmail.com"
   ]
  },
  {
   "cell_type": "code",
   "execution_count": 1,
   "id": "b9110894",
   "metadata": {
    "_cell_guid": "b1076dfc-b9ad-4769-8c92-a6c4dae69d19",
    "_uuid": "8f2839f25d086af736a60e9eeb907d3b93b6e0e5",
    "execution": {
     "iopub.execute_input": "2022-01-27T19:45:20.539310Z",
     "iopub.status.busy": "2022-01-27T19:45:20.538572Z",
     "iopub.status.idle": "2022-01-27T19:45:20.560591Z",
     "shell.execute_reply": "2022-01-27T19:45:20.561239Z",
     "shell.execute_reply.started": "2022-01-27T19:29:58.887539Z"
    },
    "jupyter": {
     "source_hidden": true
    },
    "papermill": {
     "duration": 0.043682,
     "end_time": "2022-01-27T19:45:20.561555",
     "exception": false,
     "start_time": "2022-01-27T19:45:20.517873",
     "status": "completed"
    },
    "tags": []
   },
   "outputs": [
    {
     "name": "stdout",
     "output_type": "stream",
     "text": [
      "/kaggle/input/crypto-list/digital_currency_list.csv\n"
     ]
    }
   ],
   "source": [
    "# This Python 3 environment comes with many helpful analytics libraries installed\n",
    "# It is defined by the kaggle/python Docker image: https://github.com/kaggle/docker-python\n",
    "# For example, here's several helpful packages to load\n",
    "\n",
    "import numpy as np # linear algebra\n",
    "import pandas as pd # data processing, CSV file I/O (e.g. pd.read_csv)\n",
    "\n",
    "# Input data files are available in the read-only \"../input/\" directory\n",
    "# For example, running this (by clicking run or pressing Shift+Enter) will list all files under the input directory\n",
    "\n",
    "import os\n",
    "for dirname, _, filenames in os.walk('/kaggle/input'):\n",
    "    for filename in filenames:\n",
    "        print(os.path.join(dirname, filename))\n",
    "\n",
    "# You can write up to 20GB to the current directory (/kaggle/working/) that gets preserved as output when you create a version using \"Save & Run All\" \n",
    "# You can also write temporary files to /kaggle/temp/, but they won't be saved outside of the current session"
   ]
  },
  {
   "cell_type": "markdown",
   "id": "5b5e6b67",
   "metadata": {
    "papermill": {
     "duration": 0.013159,
     "end_time": "2022-01-27T19:45:20.588551",
     "exception": false,
     "start_time": "2022-01-27T19:45:20.575392",
     "status": "completed"
    },
    "tags": []
   },
   "source": [
    "API used for Crypto data is from RapidAPI - Alpha Vantage. https://rapidapi.com/alphavantage/api/alpha-vantage/   \n",
    "Documentation - https://www.alphavantage.co/documentation/"
   ]
  },
  {
   "cell_type": "code",
   "execution_count": 2,
   "id": "3bd449fa",
   "metadata": {
    "execution": {
     "iopub.execute_input": "2022-01-27T19:45:20.618370Z",
     "iopub.status.busy": "2022-01-27T19:45:20.617687Z",
     "iopub.status.idle": "2022-01-27T19:45:20.638737Z",
     "shell.execute_reply": "2022-01-27T19:45:20.639324Z",
     "shell.execute_reply.started": "2022-01-27T19:29:58.901242Z"
    },
    "papermill": {
     "duration": 0.037449,
     "end_time": "2022-01-27T19:45:20.639511",
     "exception": false,
     "start_time": "2022-01-27T19:45:20.602062",
     "status": "completed"
    },
    "tags": []
   },
   "outputs": [],
   "source": [
    "# import digital currency list (Contains all Crypto names and codes)\n",
    "df = pd.read_csv('/kaggle/input/crypto-list/digital_currency_list.csv')"
   ]
  },
  {
   "cell_type": "code",
   "execution_count": 3,
   "id": "645df574",
   "metadata": {
    "execution": {
     "iopub.execute_input": "2022-01-27T19:45:20.675969Z",
     "iopub.status.busy": "2022-01-27T19:45:20.668822Z",
     "iopub.status.idle": "2022-01-27T19:45:20.690723Z",
     "shell.execute_reply": "2022-01-27T19:45:20.691233Z",
     "shell.execute_reply.started": "2022-01-27T19:29:58.921267Z"
    },
    "papermill": {
     "duration": 0.038091,
     "end_time": "2022-01-27T19:45:20.691406",
     "exception": false,
     "start_time": "2022-01-27T19:45:20.653315",
     "status": "completed"
    },
    "tags": []
   },
   "outputs": [
    {
     "data": {
      "text/html": [
       "<div>\n",
       "<style scoped>\n",
       "    .dataframe tbody tr th:only-of-type {\n",
       "        vertical-align: middle;\n",
       "    }\n",
       "\n",
       "    .dataframe tbody tr th {\n",
       "        vertical-align: top;\n",
       "    }\n",
       "\n",
       "    .dataframe thead th {\n",
       "        text-align: right;\n",
       "    }\n",
       "</style>\n",
       "<table border=\"1\" class=\"dataframe\">\n",
       "  <thead>\n",
       "    <tr style=\"text-align: right;\">\n",
       "      <th></th>\n",
       "      <th>currency code</th>\n",
       "      <th>currency name</th>\n",
       "    </tr>\n",
       "  </thead>\n",
       "  <tbody>\n",
       "    <tr>\n",
       "      <th>0</th>\n",
       "      <td>1ST</td>\n",
       "      <td>FirstBlood</td>\n",
       "    </tr>\n",
       "    <tr>\n",
       "      <th>1</th>\n",
       "      <td>2GIVE</td>\n",
       "      <td>GiveCoin</td>\n",
       "    </tr>\n",
       "    <tr>\n",
       "      <th>2</th>\n",
       "      <td>808</td>\n",
       "      <td>808Coin</td>\n",
       "    </tr>\n",
       "    <tr>\n",
       "      <th>3</th>\n",
       "      <td>AAVE</td>\n",
       "      <td>Aave</td>\n",
       "    </tr>\n",
       "    <tr>\n",
       "      <th>4</th>\n",
       "      <td>ABT</td>\n",
       "      <td>ArcBlock</td>\n",
       "    </tr>\n",
       "    <tr>\n",
       "      <th>...</th>\n",
       "      <td>...</td>\n",
       "      <td>...</td>\n",
       "    </tr>\n",
       "    <tr>\n",
       "      <th>570</th>\n",
       "      <td>ZEN</td>\n",
       "      <td>ZenCash</td>\n",
       "    </tr>\n",
       "    <tr>\n",
       "      <th>571</th>\n",
       "      <td>ZET</td>\n",
       "      <td>Zetacoin</td>\n",
       "    </tr>\n",
       "    <tr>\n",
       "      <th>572</th>\n",
       "      <td>ZIL</td>\n",
       "      <td>Zilliqa</td>\n",
       "    </tr>\n",
       "    <tr>\n",
       "      <th>573</th>\n",
       "      <td>ZLA</td>\n",
       "      <td>Zilla</td>\n",
       "    </tr>\n",
       "    <tr>\n",
       "      <th>574</th>\n",
       "      <td>ZRX</td>\n",
       "      <td>0x</td>\n",
       "    </tr>\n",
       "  </tbody>\n",
       "</table>\n",
       "<p>575 rows × 2 columns</p>\n",
       "</div>"
      ],
      "text/plain": [
       "    currency code currency name\n",
       "0             1ST    FirstBlood\n",
       "1           2GIVE      GiveCoin\n",
       "2             808       808Coin\n",
       "3            AAVE          Aave\n",
       "4             ABT      ArcBlock\n",
       "..            ...           ...\n",
       "570           ZEN       ZenCash\n",
       "571           ZET      Zetacoin\n",
       "572           ZIL       Zilliqa\n",
       "573           ZLA         Zilla\n",
       "574           ZRX            0x\n",
       "\n",
       "[575 rows x 2 columns]"
      ]
     },
     "execution_count": 3,
     "metadata": {},
     "output_type": "execute_result"
    }
   ],
   "source": [
    "df"
   ]
  },
  {
   "cell_type": "markdown",
   "id": "1a6b584f",
   "metadata": {
    "papermill": {
     "duration": 0.013548,
     "end_time": "2022-01-27T19:45:20.718397",
     "exception": false,
     "start_time": "2022-01-27T19:45:20.704849",
     "status": "completed"
    },
    "tags": []
   },
   "source": [
    "### Template array for currency CSVs"
   ]
  },
  {
   "cell_type": "code",
   "execution_count": 4,
   "id": "ee98c1a8",
   "metadata": {
    "execution": {
     "iopub.execute_input": "2022-01-27T19:45:20.749406Z",
     "iopub.status.busy": "2022-01-27T19:45:20.748743Z",
     "iopub.status.idle": "2022-01-27T19:45:20.754934Z",
     "shell.execute_reply": "2022-01-27T19:45:20.755558Z",
     "shell.execute_reply.started": "2022-01-27T19:29:58.938342Z"
    },
    "papermill": {
     "duration": 0.023041,
     "end_time": "2022-01-27T19:45:20.755732",
     "exception": false,
     "start_time": "2022-01-27T19:45:20.732691",
     "status": "completed"
    },
    "tags": []
   },
   "outputs": [
    {
     "data": {
      "text/plain": [
       "{'Time_series': [],\n",
       " 'Open (USD)': [],\n",
       " 'High (USD)': [],\n",
       " 'Low (USD)': [],\n",
       " 'Close (USD)': [],\n",
       " 'Volume': [],\n",
       " 'Market cap (USD)': []}"
      ]
     },
     "execution_count": 4,
     "metadata": {},
     "output_type": "execute_result"
    }
   ],
   "source": [
    "template = {\n",
    "    \"Time_series\":[],\n",
    "    \"Open (USD)\":[],\n",
    "    \"High (USD)\":[],\n",
    "    \"Low (USD)\":[],\n",
    "    \"Close (USD)\":[],\n",
    "    \"Volume\":[],\n",
    "    \"Market cap (USD)\":[],   \n",
    "}\n",
    "template"
   ]
  },
  {
   "cell_type": "markdown",
   "id": "31ac272c",
   "metadata": {
    "papermill": {
     "duration": 0.013612,
     "end_time": "2022-01-27T19:45:20.783639",
     "exception": false,
     "start_time": "2022-01-27T19:45:20.770027",
     "status": "completed"
    },
    "tags": []
   },
   "source": [
    "### Turn the template into a Data frame to be converted to a CSV"
   ]
  },
  {
   "cell_type": "code",
   "execution_count": 5,
   "id": "83f7d205",
   "metadata": {
    "execution": {
     "iopub.execute_input": "2022-01-27T19:45:20.814499Z",
     "iopub.status.busy": "2022-01-27T19:45:20.813778Z",
     "iopub.status.idle": "2022-01-27T19:45:20.823921Z",
     "shell.execute_reply": "2022-01-27T19:45:20.824472Z",
     "shell.execute_reply.started": "2022-01-27T19:29:58.950054Z"
    },
    "papermill": {
     "duration": 0.027453,
     "end_time": "2022-01-27T19:45:20.824722",
     "exception": false,
     "start_time": "2022-01-27T19:45:20.797269",
     "status": "completed"
    },
    "tags": []
   },
   "outputs": [
    {
     "data": {
      "text/html": [
       "<div>\n",
       "<style scoped>\n",
       "    .dataframe tbody tr th:only-of-type {\n",
       "        vertical-align: middle;\n",
       "    }\n",
       "\n",
       "    .dataframe tbody tr th {\n",
       "        vertical-align: top;\n",
       "    }\n",
       "\n",
       "    .dataframe thead th {\n",
       "        text-align: right;\n",
       "    }\n",
       "</style>\n",
       "<table border=\"1\" class=\"dataframe\">\n",
       "  <thead>\n",
       "    <tr style=\"text-align: right;\">\n",
       "      <th></th>\n",
       "      <th>Time_series</th>\n",
       "      <th>Open (USD)</th>\n",
       "      <th>High (USD)</th>\n",
       "      <th>Low (USD)</th>\n",
       "      <th>Close (USD)</th>\n",
       "      <th>Volume</th>\n",
       "      <th>Market cap (USD)</th>\n",
       "    </tr>\n",
       "  </thead>\n",
       "  <tbody>\n",
       "  </tbody>\n",
       "</table>\n",
       "</div>"
      ],
      "text/plain": [
       "Empty DataFrame\n",
       "Columns: [Time_series, Open (USD), High (USD), Low (USD), Close (USD), Volume, Market cap (USD)]\n",
       "Index: []"
      ]
     },
     "execution_count": 5,
     "metadata": {},
     "output_type": "execute_result"
    }
   ],
   "source": [
    "template = pd.DataFrame(template)\n",
    "template"
   ]
  },
  {
   "cell_type": "markdown",
   "id": "db880df3",
   "metadata": {
    "papermill": {
     "duration": 0.015052,
     "end_time": "2022-01-27T19:45:20.854774",
     "exception": false,
     "start_time": "2022-01-27T19:45:20.839722",
     "status": "completed"
    },
    "tags": []
   },
   "source": [
    "### Below creates a CSV for all currencies then stores the CSV as a data frame in a dictionary"
   ]
  },
  {
   "cell_type": "code",
   "execution_count": 6,
   "id": "ad2facb3",
   "metadata": {
    "execution": {
     "iopub.execute_input": "2022-01-27T19:45:20.887177Z",
     "iopub.status.busy": "2022-01-27T19:45:20.886497Z",
     "iopub.status.idle": "2022-01-27T19:45:23.012105Z",
     "shell.execute_reply": "2022-01-27T19:45:23.011508Z",
     "shell.execute_reply.started": "2022-01-27T19:29:58.967021Z"
    },
    "papermill": {
     "duration": 2.142703,
     "end_time": "2022-01-27T19:45:23.012309",
     "exception": false,
     "start_time": "2022-01-27T19:45:20.869606",
     "status": "completed"
    },
    "tags": []
   },
   "outputs": [],
   "source": [
    "df_dict = {}\n",
    "count = 0\n",
    "while count < len(df['currency name']):\n",
    "    # each currency's name (+ .csv) is used to create the name of the csv file\n",
    "    new_csv = df['currency name'][count] + \".csv\"\n",
    "    # the template is used to create the csv file's columns\n",
    "    template.to_csv(new_csv, index=False)\n",
    "    # each currency's name (+ _df) is used to create the data frame for each csv\n",
    "    new_df = df['currency name'][count] + \"_df\" \n",
    "    df_dict[str(new_df)] = new_df\n",
    "    df_dict[new_df] = pd.read_csv(new_csv)\n",
    "    count += 1"
   ]
  },
  {
   "cell_type": "markdown",
   "id": "364bee34",
   "metadata": {
    "papermill": {
     "duration": 0.014508,
     "end_time": "2022-01-27T19:45:23.041310",
     "exception": false,
     "start_time": "2022-01-27T19:45:23.026802",
     "status": "completed"
    },
    "tags": []
   },
   "source": [
    "### The data frame are now accessible through the dictionary.\n",
    "### Example:"
   ]
  },
  {
   "cell_type": "code",
   "execution_count": 7,
   "id": "ad568273",
   "metadata": {
    "execution": {
     "iopub.execute_input": "2022-01-27T19:45:23.080880Z",
     "iopub.status.busy": "2022-01-27T19:45:23.079808Z",
     "iopub.status.idle": "2022-01-27T19:45:23.084257Z",
     "shell.execute_reply": "2022-01-27T19:45:23.083692Z",
     "shell.execute_reply.started": "2022-01-27T19:30:00.650621Z"
    },
    "papermill": {
     "duration": 0.028159,
     "end_time": "2022-01-27T19:45:23.084402",
     "exception": false,
     "start_time": "2022-01-27T19:45:23.056243",
     "status": "completed"
    },
    "tags": []
   },
   "outputs": [
    {
     "data": {
      "text/html": [
       "<div>\n",
       "<style scoped>\n",
       "    .dataframe tbody tr th:only-of-type {\n",
       "        vertical-align: middle;\n",
       "    }\n",
       "\n",
       "    .dataframe tbody tr th {\n",
       "        vertical-align: top;\n",
       "    }\n",
       "\n",
       "    .dataframe thead th {\n",
       "        text-align: right;\n",
       "    }\n",
       "</style>\n",
       "<table border=\"1\" class=\"dataframe\">\n",
       "  <thead>\n",
       "    <tr style=\"text-align: right;\">\n",
       "      <th></th>\n",
       "      <th>Time_series</th>\n",
       "      <th>Open (USD)</th>\n",
       "      <th>High (USD)</th>\n",
       "      <th>Low (USD)</th>\n",
       "      <th>Close (USD)</th>\n",
       "      <th>Volume</th>\n",
       "      <th>Market cap (USD)</th>\n",
       "    </tr>\n",
       "  </thead>\n",
       "  <tbody>\n",
       "  </tbody>\n",
       "</table>\n",
       "</div>"
      ],
      "text/plain": [
       "Empty DataFrame\n",
       "Columns: [Time_series, Open (USD), High (USD), Low (USD), Close (USD), Volume, Market cap (USD)]\n",
       "Index: []"
      ]
     },
     "execution_count": 7,
     "metadata": {},
     "output_type": "execute_result"
    }
   ],
   "source": [
    "df_dict['Hedera_df']"
   ]
  },
  {
   "cell_type": "code",
   "execution_count": 8,
   "id": "5a7c79d3",
   "metadata": {
    "_kg_hide-output": true,
    "execution": {
     "iopub.execute_input": "2022-01-27T19:45:23.118946Z",
     "iopub.status.busy": "2022-01-27T19:45:23.117890Z",
     "iopub.status.idle": "2022-01-27T19:57:16.454018Z",
     "shell.execute_reply": "2022-01-27T19:57:16.453450Z",
     "shell.execute_reply.started": "2022-01-27T19:32:31.084786Z"
    },
    "papermill": {
     "duration": 713.354522,
     "end_time": "2022-01-27T19:57:16.454217",
     "exception": false,
     "start_time": "2022-01-27T19:45:23.099695",
     "status": "completed"
    },
    "tags": []
   },
   "outputs": [],
   "source": [
    "import requests\n",
    "import time\n",
    "import json\n",
    "from csv import writer\n",
    "\n",
    "counter = 0\n",
    "\n",
    "for n, code in enumerate(df['currency code']):\n",
    "    \n",
    "    \n",
    "    \n",
    "    focused_df = df['currency name'][n]\n",
    "    \n",
    "    url = \"https://alpha-vantage.p.rapidapi.com/query\"\n",
    "    \n",
    "    querystring = {\"market\":\"CNY\",\"symbol\":code, \"function\":\"DIGITAL_CURRENCY_DAILY\"}\n",
    "    \n",
    "    headers = {\n",
    "        'x-rapidapi-host': \"alpha-vantage.p.rapidapi.com\",\n",
    "        'x-rapidapi-key': \"8e3c6608afmsh5439c071d149e5dp178eeajsn4b6b0d2e820a\"\n",
    "        }\n",
    "\n",
    "    response = requests.request(\"GET\", url, headers=headers, params=querystring)\n",
    "    \n",
    "    data = response.text\n",
    "\n",
    "    parse_json = json.loads(data)   \n",
    "    \n",
    "    update_csv = focused_df + \".csv\"\n",
    "    update_df = focused_df + \"_df\"\n",
    "    \n",
    "    \n",
    "    try:\n",
    "        time_series = parse_json['Time Series (Digital Currency Daily)']\n",
    "    \n",
    "        for date in time_series:\n",
    "            working_time_series = time_series[date]\n",
    "            working_df = df_dict[update_df]['Time_series']\n",
    "            if working_df.isin([date]).any(axis=0) == False:\n",
    "                usd_open = working_time_series['1b. open (USD)']\n",
    "                usd_high = working_time_series['2b. high (USD)']\n",
    "                usd_low = working_time_series['3b. low (USD)']\n",
    "                usd_close = working_time_series['4b. close (USD)']\n",
    "                vol = working_time_series['5. volume']\n",
    "                market = working_time_series['6. market cap (USD)']            \n",
    "    \n",
    "                list = [date, usd_open, usd_high, usd_low, usd_close, vol, market]\n",
    "            \n",
    "                with open(update_csv, 'a', newline='') as f_object:\n",
    "                    writer_object = writer(f_object)\n",
    "                    writer_object.writerow(list)\n",
    "                    f_object.close()\n",
    "            \n",
    "            elif working_df.isin(conditional_date).any(axis=0) == True:                       \n",
    "                pass\n",
    "    except(KeyError):\n",
    "        pass\n",
    "        \n",
    "    counter += 1\n",
    "    #print(counter)\n",
    "    \n",
    "    csv_path = \"./\" + update_csv\n",
    "    df_dict[update_df] = pd.read_csv(csv_path)"
   ]
  },
  {
   "cell_type": "code",
   "execution_count": 9,
   "id": "fc7503af",
   "metadata": {
    "execution": {
     "iopub.execute_input": "2022-01-27T19:57:16.493230Z",
     "iopub.status.busy": "2022-01-27T19:57:16.492416Z",
     "iopub.status.idle": "2022-01-27T19:57:16.495496Z",
     "shell.execute_reply": "2022-01-27T19:57:16.495976Z",
     "shell.execute_reply.started": "2022-01-27T19:31:32.065858Z"
    },
    "papermill": {
     "duration": 0.027041,
     "end_time": "2022-01-27T19:57:16.496149",
     "exception": false,
     "start_time": "2022-01-27T19:57:16.469108",
     "status": "completed"
    },
    "tags": []
   },
   "outputs": [
    {
     "data": {
      "text/html": [
       "<div>\n",
       "<style scoped>\n",
       "    .dataframe tbody tr th:only-of-type {\n",
       "        vertical-align: middle;\n",
       "    }\n",
       "\n",
       "    .dataframe tbody tr th {\n",
       "        vertical-align: top;\n",
       "    }\n",
       "\n",
       "    .dataframe thead th {\n",
       "        text-align: right;\n",
       "    }\n",
       "</style>\n",
       "<table border=\"1\" class=\"dataframe\">\n",
       "  <thead>\n",
       "    <tr style=\"text-align: right;\">\n",
       "      <th></th>\n",
       "      <th>Time_series</th>\n",
       "      <th>Open (USD)</th>\n",
       "      <th>High (USD)</th>\n",
       "      <th>Low (USD)</th>\n",
       "      <th>Close (USD)</th>\n",
       "      <th>Volume</th>\n",
       "      <th>Market cap (USD)</th>\n",
       "    </tr>\n",
       "  </thead>\n",
       "  <tbody>\n",
       "  </tbody>\n",
       "</table>\n",
       "</div>"
      ],
      "text/plain": [
       "Empty DataFrame\n",
       "Columns: [Time_series, Open (USD), High (USD), Low (USD), Close (USD), Volume, Market cap (USD)]\n",
       "Index: []"
      ]
     },
     "execution_count": 9,
     "metadata": {},
     "output_type": "execute_result"
    }
   ],
   "source": [
    "df_dict['Cardano_df']"
   ]
  },
  {
   "cell_type": "code",
   "execution_count": 10,
   "id": "631a2d16",
   "metadata": {
    "execution": {
     "iopub.execute_input": "2022-01-27T19:57:16.533749Z",
     "iopub.status.busy": "2022-01-27T19:57:16.530119Z",
     "iopub.status.idle": "2022-01-27T19:57:16.537486Z",
     "shell.execute_reply": "2022-01-27T19:57:16.537982Z",
     "shell.execute_reply.started": "2022-01-27T19:43:48.577043Z"
    },
    "papermill": {
     "duration": 0.026195,
     "end_time": "2022-01-27T19:57:16.538207",
     "exception": false,
     "start_time": "2022-01-27T19:57:16.512012",
     "status": "completed"
    },
    "tags": []
   },
   "outputs": [
    {
     "name": "stdout",
     "output_type": "stream",
     "text": [
      "Aave_df\n"
     ]
    }
   ],
   "source": [
    "for i in df_dict:\n",
    "    if len(df_dict[i]) >= 5:\n",
    "        print(i)"
   ]
  }
 ],
 "metadata": {
  "kernelspec": {
   "display_name": "Python 3",
   "language": "python",
   "name": "python3"
  },
  "language_info": {
   "codemirror_mode": {
    "name": "ipython",
    "version": 3
   },
   "file_extension": ".py",
   "mimetype": "text/x-python",
   "name": "python",
   "nbconvert_exporter": "python",
   "pygments_lexer": "ipython3",
   "version": "3.7.12"
  },
  "papermill": {
   "default_parameters": {},
   "duration": 727.763539,
   "end_time": "2022-01-27T19:57:17.164952",
   "environment_variables": {},
   "exception": null,
   "input_path": "__notebook__.ipynb",
   "output_path": "__notebook__.ipynb",
   "parameters": {},
   "start_time": "2022-01-27T19:45:09.401413",
   "version": "2.3.3"
  }
 },
 "nbformat": 4,
 "nbformat_minor": 5
}
